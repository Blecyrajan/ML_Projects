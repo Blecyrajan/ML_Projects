{
 "cells": [
  {
   "cell_type": "code",
   "execution_count": 1,
   "id": "e5cc7167",
   "metadata": {
    "execution": {
     "iopub.execute_input": "2025-05-29T07:24:05.732853Z",
     "iopub.status.busy": "2025-05-29T07:24:05.732444Z",
     "iopub.status.idle": "2025-05-29T07:24:15.645904Z",
     "shell.execute_reply": "2025-05-29T07:24:15.644693Z"
    },
    "papermill": {
     "duration": 9.91826,
     "end_time": "2025-05-29T07:24:15.647643",
     "exception": false,
     "start_time": "2025-05-29T07:24:05.729383",
     "status": "completed"
    },
    "tags": []
   },
   "outputs": [
    {
     "name": "stdout",
     "output_type": "stream",
     "text": [
      "Mean Squared Error: 0.027872523834468314\n",
      "R2 Score: 0.9878287633594838\n",
      "      Actual Rating  Predicted Rating\n",
      "7133            0.0             0.000\n",
      "1851            4.1             4.136\n",
      "4416            3.3             3.061\n",
      "3210            3.9             3.598\n",
      "8299            0.0             0.000\n",
      "5254            2.9             2.863\n",
      "6086            0.0             0.000\n",
      "2287            4.3             4.178\n",
      "2771            3.5             3.650\n",
      "8760            0.0             0.000\n"
     ]
    }
   ],
   "source": [
    "import pandas as pd\n",
    "from sklearn.model_selection import train_test_split\n",
    "from sklearn.preprocessing import LabelEncoder, MinMaxScaler\n",
    "from sklearn.ensemble import RandomForestRegressor\n",
    "from sklearn.metrics import mean_squared_error, r2_score\n",
    "\n",
    "# Load the dataset\n",
    "df = pd.read_csv(\"/kaggle/input/dataset-csv/Dataset .csv\") \n",
    "\n",
    "# Drop rows with missing values\n",
    "df.dropna(inplace=True)\n",
    "\n",
    "# Encode categorical columns\n",
    "categorical_cols = df.select_dtypes(include=['object']).columns\n",
    "le = LabelEncoder()\n",
    "for col in categorical_cols:\n",
    "    df[col] = le.fit_transform(df[col])\n",
    "\n",
    "# Define features and target\n",
    "X = df.drop('Aggregate rating', axis=1)\n",
    "y = df['Aggregate rating']\n",
    "\n",
    "# Apply MinMax scaling to features\n",
    "scaler = MinMaxScaler()\n",
    "X_scaled = pd.DataFrame(scaler.fit_transform(X), columns=X.columns)\n",
    "\n",
    "# Split the dataset into training and testing sets\n",
    "X_train, X_test, y_train, y_test = train_test_split(X_scaled, y, test_size=0.2, random_state=42)\n",
    "\n",
    "# Train a Random Forest Regressor\n",
    "model = RandomForestRegressor(n_estimators=100, random_state=42)\n",
    "model.fit(X_train, y_train)\n",
    "\n",
    "# Predict on test set\n",
    "y_pred = model.predict(X_test)\n",
    "\n",
    "# Evaluate the model\n",
    "print(\"Mean Squared Error:\", mean_squared_error(y_test, y_pred))\n",
    "print(\"R2 Score:\", r2_score(y_test, y_pred))\n",
    "\n",
    "# Show predictions alongside actual values\n",
    "results_df = X_test.copy()\n",
    "results_df['Actual Rating'] = y_test.values\n",
    "results_df['Predicted Rating'] = y_pred\n",
    "print(results_df[['Actual Rating', 'Predicted Rating']].head(10))\n"
   ]
  }
 ],
 "metadata": {
  "kaggle": {
   "accelerator": "none",
   "dataSources": [
    {
     "datasetId": 7542827,
     "sourceId": 11992104,
     "sourceType": "datasetVersion"
    }
   ],
   "dockerImageVersionId": 31040,
   "isGpuEnabled": false,
   "isInternetEnabled": false,
   "language": "python",
   "sourceType": "notebook"
  },
  "kernelspec": {
   "display_name": "Python 3",
   "language": "python",
   "name": "python3"
  },
  "language_info": {
   "codemirror_mode": {
    "name": "ipython",
    "version": 3
   },
   "file_extension": ".py",
   "mimetype": "text/x-python",
   "name": "python",
   "nbconvert_exporter": "python",
   "pygments_lexer": "ipython3",
   "version": "3.11.11"
  },
  "papermill": {
   "default_parameters": {},
   "duration": 15.686699,
   "end_time": "2025-05-29T07:24:16.370431",
   "environment_variables": {},
   "exception": null,
   "input_path": "__notebook__.ipynb",
   "output_path": "__notebook__.ipynb",
   "parameters": {},
   "start_time": "2025-05-29T07:24:00.683732",
   "version": "2.6.0"
  }
 },
 "nbformat": 4,
 "nbformat_minor": 5
}

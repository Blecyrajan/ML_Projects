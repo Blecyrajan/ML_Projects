{
 "cells": [
  {
   "cell_type": "code",
   "execution_count": 1,
   "id": "df85d02f",
   "metadata": {
    "execution": {
     "iopub.execute_input": "2025-05-29T07:38:20.781545Z",
     "iopub.status.busy": "2025-05-29T07:38:20.781179Z",
     "iopub.status.idle": "2025-05-29T07:38:26.578140Z",
     "shell.execute_reply": "2025-05-29T07:38:26.577058Z"
    },
    "papermill": {
     "duration": 5.801652,
     "end_time": "2025-05-29T07:38:26.579926",
     "exception": false,
     "start_time": "2025-05-29T07:38:20.778274",
     "status": "completed"
    },
    "tags": []
   },
   "outputs": [
    {
     "name": "stdout",
     "output_type": "stream",
     "text": [
      "      Restaurant Name      Cuisines  Price range  Aggregate rating\n",
      "1683    Sheetla Dhaba  North Indian            1               0.0\n",
      "5602  Punjabi Delight  North Indian            1               0.0\n",
      "7555   Bhape Di Hatti  North Indian            1               3.1\n",
      "8788    Chauhan Hotel  North Indian            1               2.9\n",
      "8787    Bebbe Da Degh  North Indian            2               3.2\n"
     ]
    }
   ],
   "source": [
    "# Task 2: Restaurant Recommendation System\n",
    "\n",
    "import pandas as pd\n",
    "from sklearn.feature_extraction.text import TfidfVectorizer\n",
    "from sklearn.metrics.pairwise import cosine_similarity\n",
    "\n",
    "# Use subset for recommendation\n",
    "df_rec = pd.read_csv(\"/kaggle/input/dataset-csv/Dataset .csv\")\n",
    "df_rec.dropna(subset=['Cuisines'], inplace=True)\n",
    "\n",
    "# Combine features\n",
    "df_rec['content'] = df_rec['Cuisines'] + \" \" + df_rec['Price range'].astype(str)\n",
    "\n",
    "# TF-IDF Vectorization\n",
    "tfidf = TfidfVectorizer()\n",
    "tfidf_matrix = tfidf.fit_transform(df_rec['content'])\n",
    "\n",
    "# Compute cosine similarity\n",
    "cosine_sim = cosine_similarity(tfidf_matrix, tfidf_matrix)\n",
    "\n",
    "# Recommendation function\n",
    "def recommend_restaurants(cuisine_input, price_range_input):\n",
    "    query = f\"{cuisine_input} {price_range_input}\"\n",
    "    query_vec = tfidf.transform([query])\n",
    "    sim_scores = cosine_similarity(query_vec, tfidf_matrix).flatten()\n",
    "    top_indices = sim_scores.argsort()[-5:][::-1]\n",
    "    return df_rec.iloc[top_indices][['Restaurant Name', 'Cuisines', 'Price range', 'Aggregate rating']]\n",
    "\n",
    "# Example usage\n",
    "recommendations = recommend_restaurants(\"North Indian\", 3)\n",
    "print(recommendations)\n"
   ]
  }
 ],
 "metadata": {
  "kaggle": {
   "accelerator": "none",
   "dataSources": [
    {
     "datasetId": 7542827,
     "sourceId": 11992104,
     "sourceType": "datasetVersion"
    }
   ],
   "dockerImageVersionId": 31040,
   "isGpuEnabled": false,
   "isInternetEnabled": true,
   "language": "python",
   "sourceType": "notebook"
  },
  "kernelspec": {
   "display_name": "Python 3",
   "language": "python",
   "name": "python3"
  },
  "language_info": {
   "codemirror_mode": {
    "name": "ipython",
    "version": 3
   },
   "file_extension": ".py",
   "mimetype": "text/x-python",
   "name": "python",
   "nbconvert_exporter": "python",
   "pygments_lexer": "ipython3",
   "version": "3.11.11"
  },
  "papermill": {
   "default_parameters": {},
   "duration": 11.552396,
   "end_time": "2025-05-29T07:38:27.301594",
   "environment_variables": {},
   "exception": null,
   "input_path": "__notebook__.ipynb",
   "output_path": "__notebook__.ipynb",
   "parameters": {},
   "start_time": "2025-05-29T07:38:15.749198",
   "version": "2.6.0"
  }
 },
 "nbformat": 4,
 "nbformat_minor": 5
}
